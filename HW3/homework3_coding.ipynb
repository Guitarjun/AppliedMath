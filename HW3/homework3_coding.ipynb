{
 "cells": [
  {
   "cell_type": "code",
   "execution_count": 2,
   "metadata": {},
   "outputs": [],
   "source": [
    "\"\"\"\n",
    "Arjun Srivastava\n",
    "arj1\n",
    "AMATH 301 B\n",
    "\"\"\"\n",
    "\n",
    "import numpy as np\n",
    "import scipy.linalg"
   ]
  },
  {
   "cell_type": "code",
   "execution_count": 26,
   "metadata": {},
   "outputs": [
    {
     "data": {
      "text/plain": [
       "array([[0.],\n",
       "       [0.],\n",
       "       [0.],\n",
       "       [0.],\n",
       "       [0.],\n",
       "       [0.],\n",
       "       [0.],\n",
       "       [0.],\n",
       "       [2.],\n",
       "       [0.],\n",
       "       [8.],\n",
       "       [0.],\n",
       "       [4.]])"
      ]
     },
     "execution_count": 26,
     "metadata": {},
     "output_type": "execute_result"
    }
   ],
   "source": [
    "# Problem 1\n",
    "\n",
    "A = np.genfromtxt('bridge_matrix.csv', delimiter=',')\n",
    "b = np.zeros(shape=(13,1))\n",
    "b[8], b[10], b[12] = 2, 8, 4\n",
    "\n",
    "# a)\n",
    "\n",
    "A1 = scipy.linalg.solve(A, b)\n",
    "\n",
    "# b)\n",
    "\n",
    "P, L, U = scipy.linalg.lu(A)\n",
    "P = np.transpose(P)\n",
    "A2 = L.copy()\n",
    "\n",
    "# c)\n",
    "    # Af = b\n",
    "y = scipy.linalg.solve_triangular(L, P @ b, lower=True)\n",
    "f = scipy.linalg.solve_triangular(U, y)\n",
    "A3 = y.copy()\n",
    "\n",
    "# d)\n",
    "\n"
   ]
  },
  {
   "cell_type": "code",
   "execution_count": 35,
   "metadata": {},
   "outputs": [
    {
     "data": {
      "text/plain": [
       "array([[ 1],\n",
       "       [-1]])"
      ]
     },
     "execution_count": 35,
     "metadata": {},
     "output_type": "execute_result"
    }
   ],
   "source": [
    "# Problem 2\n",
    "\n",
    "alpha, omega, x0 = -0.003, 0.05, np.transpose(np.array([[1, -1]]))\n"
   ]
  },
  {
   "cell_type": "code",
   "execution_count": null,
   "metadata": {},
   "outputs": [],
   "source": []
  }
 ],
 "metadata": {
  "kernelspec": {
   "display_name": "Python 3",
   "language": "python",
   "name": "python3"
  },
  "language_info": {
   "codemirror_mode": {
    "name": "ipython",
    "version": 3
   },
   "file_extension": ".py",
   "mimetype": "text/x-python",
   "name": "python",
   "nbconvert_exporter": "python",
   "pygments_lexer": "ipython3",
   "version": "3.7.7"
  }
 },
 "nbformat": 4,
 "nbformat_minor": 4
}
