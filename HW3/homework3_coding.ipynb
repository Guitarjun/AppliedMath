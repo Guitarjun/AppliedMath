{
 "cells": [
  {
   "cell_type": "code",
   "execution_count": 2,
   "metadata": {},
   "outputs": [],
   "source": [
    "\"\"\"\n",
    "Arjun Srivastava\n",
    "arj1\n",
    "AMATH 301 B\n",
    "\"\"\"\n",
    "\n",
    "import numpy as np\n",
    "import scipy.linalg"
   ]
  },
  {
   "cell_type": "code",
   "execution_count": 3,
   "metadata": {},
   "outputs": [],
   "source": [
    "# Problem 1\n",
    "\n",
    "A = np.genfromtxt('bridge_matrix.csv', delimiter=',')\n",
    "b = np.zeros(shape=(13,1))\n",
    "b[8], b[10], b[12] = 2, 8, 4\n",
    "\n",
    "# a)\n",
    "\n",
    "A1 = scipy.linalg.solve(A, b)\n",
    "\n",
    "# b)\n",
    "\n",
    "P, L, U = scipy.linalg.lu(A)\n",
    "P = np.transpose(P)\n",
    "A2 = L.copy()\n",
    "\n",
    "# c)\n",
    "\n",
    "y = scipy.linalg.solve_triangular(L, P @ b, lower=True)\n",
    "f = scipy.linalg.solve_triangular(U, y)\n",
    "A3 = y.copy()\n",
    "\n",
    "# d)\n",
    "\n",
    "# ??"
   ]
  },
  {
   "cell_type": "code",
   "execution_count": 77,
   "metadata": {},
   "outputs": [
    {
     "data": {
      "text/plain": [
       "789"
      ]
     },
     "execution_count": 77,
     "metadata": {},
     "output_type": "execute_result"
    }
   ],
   "source": [
    "# Problem 2\n",
    "\n",
    "alpha, omega, x0 = -0.003, 0.05, np.transpose(np.array([[1, -1]]))\n",
    "A = np.array([[1 - alpha, -omega], [omega, 1-alpha]])\n",
    "\n",
    "# a)\n",
    "\n",
    "A6, A7 = np.zeros((1, 1001)), np.zeros((1, 1001))\n",
    "x0 = np.array([[1], [-1]])\n",
    "for i in range(1001):\n",
    "    A6[0][i], A7[0][i] = x0[[0]], x0[[1]]\n",
    "    x0 = scipy.linalg.solve(A, x0)\n",
    "\n",
    "# b)\n",
    "\n",
    "A8 = np.zeros((1, 1001))\n",
    "# x0 = np.array([[1], [-1]])\n",
    "for i in range(1001):\n",
    "    A8[0][i] = np.sqrt((A6[0][i]**2 + A7[0][i]**2))\n",
    "    \n",
    "# c)\n",
    "\n",
    "i = 0\n",
    "while A8[0][i] > 0.05:\n",
    "    i += 1\n",
    "A9, A10 = A8[0][i], i"
   ]
  },
  {
   "cell_type": "code",
   "execution_count": 69,
   "metadata": {},
   "outputs": [],
   "source": [
    "# Problem 3\n",
    "\n",
    "# a)\n",
    "\n",
    "R = lambda x : np.array([[np.cos(x), 0, np.sin(x)], [0, 1, 0], [-np.sin(x), 0, np.cos(x)]])\n",
    "\n",
    "A11 = R(np.pi/10)\n",
    "\n",
    "# b)\n",
    "\n",
    "x = np.array([[0.3], [1.4], [-2.7]])\n",
    "\n",
    "A12 = R((3*np.pi)/8) @ x\n",
    "\n",
    "# c)\n",
    "\n",
    "y = np.array([[1.2], [-0.3], [2]])\n",
    "A13 = scipy.linalg.solve(R(np.pi/7), y)\n",
    "\n",
    "# d)\n",
    "\n",
    "A14 = scipy.linalg.inv(R((5*np.pi)/7))\n",
    "\n",
    "# e)\n",
    "\n",
    "A15 = -((5*np.pi)/7)"
   ]
  },
  {
   "cell_type": "code",
   "execution_count": 74,
   "metadata": {},
   "outputs": [
    {
     "data": {
      "text/plain": [
       "array([[-1.71428571],\n",
       "       [-1.28571429],\n",
       "       [ 3.78571429]])"
      ]
     },
     "execution_count": 74,
     "metadata": {},
     "output_type": "execute_result"
    }
   ],
   "source": [
    "# Activity 3\n",
    "\n",
    "A = np.array([[25, 10, 20], [5, 15, 10], [30, 15, 20]])\n",
    "b = np.array([[20], [10], [5]])\n",
    "res = scipy.linalg.solve(A, b)\n",
    "res"
   ]
  },
  {
   "cell_type": "code",
   "execution_count": null,
   "metadata": {},
   "outputs": [],
   "source": []
  }
 ],
 "metadata": {
  "kernelspec": {
   "display_name": "Python 3",
   "language": "python",
   "name": "python3"
  },
  "language_info": {
   "codemirror_mode": {
    "name": "ipython",
    "version": 3
   },
   "file_extension": ".py",
   "mimetype": "text/x-python",
   "name": "python",
   "nbconvert_exporter": "python",
   "pygments_lexer": "ipython3",
   "version": "3.7.7"
  }
 },
 "nbformat": 4,
 "nbformat_minor": 4
}
