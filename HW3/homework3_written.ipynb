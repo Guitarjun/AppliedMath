{
 "cells": [
  {
   "cell_type": "code",
   "execution_count": 70,
   "metadata": {},
   "outputs": [],
   "source": [
    "\"\"\"\n",
    "Arjun Srivastava\n",
    "arj1\n",
    "AMATH 301 B\n",
    "\"\"\"\n",
    "\n",
    "import numpy as np\n",
    "import scipy.linalg\n",
    "import time"
   ]
  },
  {
   "cell_type": "code",
   "execution_count": 67,
   "metadata": {},
   "outputs": [
    {
     "name": "stdout",
     "output_type": "stream",
     "text": [
      "==============================\n",
      "c)\n",
      "[[1.e-19 1.e+00]\n",
      " [1.e+00 1.e+00]]\n",
      "\n",
      "[[1.e-19 1.e+00]\n",
      " [1.e+02 0.e+00]]\n",
      "==============================\n",
      "d)\n",
      "[[1.e+00 1.e+00]\n",
      " [1.e-19 1.e+00]]\n",
      "\n",
      "[[1.e+00 1.e+00]\n",
      " [1.e-19 1.e+00]]\n",
      "==============================\n",
      "e)\n",
      "[[1.e+00 0.e+00]\n",
      " [1.e-19 1.e+00]]\n",
      "[[1. 1.]\n",
      " [0. 1.]]\n",
      "[[0. 1.]\n",
      " [1. 0.]]\n",
      "\n",
      "\n",
      "[[1.e+00 0.e+00]\n",
      " [1.e-19 1.e+00]]\n",
      "[[1. 1.]\n",
      " [0. 1.]]\n",
      "[[1. 0.]\n",
      " [0. 1.]]\n"
     ]
    },
    {
     "data": {
      "text/plain": [
       "'\\nThe official SciPy LU yields the same results as part d). This implies that Python is using the permutation matrix\\nto ensure that the matrix A can be more efficiently decomposed without issues. If P we\\n'"
      ]
     },
     "execution_count": 67,
     "metadata": {},
     "output_type": "execute_result"
    }
   ],
   "source": [
    "# Problem 1\n",
    "\n",
    "# a)\n",
    "\n",
    "a, b = 1e21 - (1e21 - 1e5), (1e21 - 1e21) + 1e5\n",
    "\n",
    "diff = abs(a-b)  # diff = 31072.0\n",
    "\n",
    "\"\"\"\n",
    "Considering the size of the numbers a and b, I would initially say that this result is not very significant. 31072.0, however,\n",
    "is still a large number, and there are many contexts in which this error would be significant.\n",
    "\"\"\"\n",
    "\n",
    "# b)\n",
    "\n",
    "A = np.array([[10e-20, 1], [1, 1]])\n",
    "\n",
    "cond = np.linalg.cond(A)  # cond = 2.6180339887498953, which implies a unique solution\n",
    "\n",
    "# c)\n",
    "\n",
    "L, U = np.array([[1, 0], [10e20, 1]]), np.array([[10e-20, 1], [0, 1-10e20]])\n",
    "print('='*30, 'c)', sep='\\n')\n",
    "print(A, (L @ U), sep='\\n\\n')\n",
    "\n",
    "\"\"\"\n",
    "L @ U is not equal to A. The first row is, and this is because we are not adding values that involve catastrophic cancellation.\n",
    "The bottom row, however, involves 10e20 + 10e-20, which should be equal to 0. As can be seen by the result printed below,\n",
    "there is an extra 100. This makes sense due to the immense size of 10e20 and 10e-20. The second column of the second row\n",
    "has 10e20 - 10e20. The result should be 1, but it is instead 0. Catastrophic cancellation is occurring in both of these cases\n",
    "since 10e20 and 10e-20 are being joined by arithmetic operations.\n",
    "\"\"\"\n",
    "\n",
    "# d)\n",
    "\n",
    "B = np.array([[1, 1], [10e-20, 1]])\n",
    "L1, U1 = np.array([[1, 0], [10e-20, 1]]), np.array([[1, 1], [0, 1-10e-20]])\n",
    "print('='*30, 'd)', sep='\\n')\n",
    "print(B, (L1 @ U1), sep='\\n\\n')\n",
    "print('='*30, 'e)', sep='\\n')\n",
    "\n",
    "\"\"\"\n",
    "By reordering the matrix A to B, we have avoided any operation that involves two very large numbers (10e20, 10e-20). Since\n",
    "10e20 and 10e-20 are only ever being added to or subtracted by 1, there is no case in which catastrophic cancellation occurs,\n",
    "and our answers are much more accurate.\n",
    "\"\"\"\n",
    "\n",
    "# e)\n",
    "\n",
    "P, L2, U2 = scipy.linalg.lu(A)\n",
    "P = P.T\n",
    "print(L2, U2, P, sep='\\n')\n",
    "print('\\n')\n",
    "\n",
    "P1, L3, U3 = scipy.linalg.lu(B)\n",
    "P1 = P1.T\n",
    "print(L3, U3, P1, sep='\\n')\n",
    "\n",
    "\"\"\"\n",
    "The official SciPy LU yields the same results as part d). This implies that Python is using the permutation matrix\n",
    "to ensure that the matrix A can be more efficiently decomposed without issues. As shown, P is different for A and B,\n",
    "implying that Python wants to avoid catastrophic cancellation by setting up the equation in a more efficient manner. Since\n",
    "A is not set up efficiently for an LU decomp, the permutation matrix converts it.\n",
    "\"\"\""
   ]
  },
  {
   "cell_type": "code",
   "execution_count": 68,
   "metadata": {},
   "outputs": [],
   "source": [
    "# Problem 2\n",
    "\n",
    "# a)\n",
    "\n",
    "A = np.genfromtxt('example_matrix.csv', delimiter=',')"
   ]
  },
  {
   "cell_type": "code",
   "execution_count": null,
   "metadata": {},
   "outputs": [],
   "source": [
    "# b)\n",
    "\n",
    "t0 = time.time()\n",
    "for i in range(100):\n",
    "    b = np.random.rand(3000, 1)\n",
    "    x = scipy.linalg.solve(A, b)\n",
    "t1 = time.time()\n",
    "    "
   ]
  }
 ],
 "metadata": {
  "kernelspec": {
   "display_name": "Python 3",
   "language": "python",
   "name": "python3"
  },
  "language_info": {
   "codemirror_mode": {
    "name": "ipython",
    "version": 3
   },
   "file_extension": ".py",
   "mimetype": "text/x-python",
   "name": "python",
   "nbconvert_exporter": "python",
   "pygments_lexer": "ipython3",
   "version": "3.7.7"
  }
 },
 "nbformat": 4,
 "nbformat_minor": 4
}
