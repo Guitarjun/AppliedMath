{
 "cells": [
  {
   "cell_type": "code",
   "execution_count": 1,
   "metadata": {},
   "outputs": [],
   "source": [
    "\"\"\"\n",
    "Arjun Srivastava\n",
    "arj1\n",
    "AMATH 301 B\n",
    "\"\"\"\n",
    "\n",
    "import numpy as np\n",
    "import scipy.linalg\n",
    "import scipy.optimize\n",
    "import matplotlib.pyplot as plt"
   ]
  },
  {
   "cell_type": "code",
   "execution_count": 2,
   "metadata": {},
   "outputs": [],
   "source": [
    "# Problem 1\n",
    "\n",
    "tolerance = 1e-8\n",
    "x0 = 2\n",
    "\n",
    "def newton_minima(f, fprime, fdprime, i):\n",
    "    X = np.zeros(i+1)\n",
    "    X[0] = x0\n",
    "    for k in range(i):\n",
    "        X[k + 1] = X[k] - fprime(X[k]) / fdprime(X[k])\n",
    "        if np.abs(fprime(X[k + 1])) < tolerance:\n",
    "            break\n",
    "    X = X[:(k+2)]\n",
    "    return np.size(X), X[np.size(X)-1]\n",
    "\n",
    "# a)\n",
    "\n",
    "f = lambda x : x**2\n",
    "fprime = lambda x : 2*x\n",
    "fdprime = lambda x : 2\n",
    "\n",
    "A1, A2 = newton_minima(f, fprime, fdprime, 100)\n",
    "\n",
    "# b)\n",
    "\n",
    "f = lambda x : x**500\n",
    "fprime = lambda x : 500 * x**499\n",
    "fdprime = lambda x : 500 * 499 * x**498\n",
    "\n",
    "A3, A4 = newton_minima(f, fprime, fdprime, 400)\n",
    "\n",
    "# c)\n",
    "\n",
    "f = lambda x : x**1000\n",
    "fprime = lambda x : 1000 * x**999\n",
    "fdprime = lambda x : 1000 * 999 * x**998\n",
    "\n",
    "A5, A6 = newton_minima(f, fprime, fdprime, 750)\n",
    "\n",
    "# d)\n",
    "\n",
    "a = -2\n",
    "b = 2\n",
    "c = (-1 + np.sqrt(5)) / 2\n",
    "\n",
    "x = c * a + (1 - c) * b\n",
    "fx = f(x)\n",
    "y = (1 - c) * a + c * b\n",
    "fy = f(y)\n",
    "for k in range(100):\n",
    "    if fx < fy:\n",
    "        b = y\n",
    "        y = x\n",
    "        fy = fx\n",
    "        x = c * a + (1 - c) * b\n",
    "        fx = f(x)\n",
    "    else:\n",
    "        a = x\n",
    "        x = y\n",
    "        fx = fy\n",
    "        y = (1 - c) * a + c * b\n",
    "        fy = f(y)\n",
    "    if (b - a) < tolerance:\n",
    "        k += 2  # Add two initial guesses\n",
    "        break \n",
    "\n",
    "A7 = k + 1\n",
    "A8 = x"
   ]
  },
  {
   "cell_type": "code",
   "execution_count": 3,
   "metadata": {},
   "outputs": [
    {
     "data": {
      "image/png": "[encoded data removed]",
      "text/plain": [
       "<Figure size 432x288 with 1 Axes>"
      ]
     },
     "metadata": {
      "needs_background": "light"
     },
     "output_type": "display_data"
    }
   ],
   "source": [
    "# Problem 2\n",
    "\n",
    "c = lambda t : 1.3 * (np.exp(-t/11) - np.exp(-4*t/3))\n",
    "t = np.arange(0, 30, .1)\n",
    "plt.title('Concentration of Drug over Time')\n",
    "plt.xlabel('hours (t)')\n",
    "plt.ylabel('c(t)')\n",
    "plt.plot(t, c(t))\n",
    "plt.grid()\n",
    "\n",
    "tmax = scipy.optimize.minimize_scalar(lambda t : -c(t), bounds=(0, 10), method='Bounded')\n",
    "A9 = tmax.x\n",
    "A10 = c(tmax.x)"
   ]
  },
  {
   "cell_type": "code",
   "execution_count": 4,
   "metadata": {},
   "outputs": [
    {
     "name": "stdout",
     "output_type": "stream",
     "text": [
      "0.6370082119636189\n",
      "0.8927161380540333\n"
     ]
    },
    {
     "data": {
      "image/png": "[encoded data removed]",
      "text/plain": [
       "<Figure size 432x288 with 1 Axes>"
      ]
     },
     "metadata": {
      "needs_background": "light"
     },
     "output_type": "display_data"
    }
   ],
   "source": [
    "# Problem 3\n",
    "\n",
    "h = lambda x : -(1/((x-0.3)**2 + 0.01)) - (1/((x-0.9)**2 + 0.04)) - 6\n",
    "x = np.arange(0, 2, .01)\n",
    "plt.plot(x, h(x))\n",
    "plt.title('h(x) vs. x')\n",
    "plt.xlabel('x')\n",
    "plt.ylabel('h(x)')\n",
    "plt.grid()\n",
    "\n",
    "xmin1 = scipy.optimize.minimize_scalar(h, bounds=(0,0.5), method='Bounded')\n",
    "A11 = xmin1.x\n",
    "\n",
    "xmax = scipy.optimize.minimize_scalar(lambda x : -h(x), bounds=(0.5,0.8), method='Bounded')\n",
    "A12 = xmax.x\n",
    "\n",
    "xmin2 = scipy.optimize.minimize_scalar(h, bounds=(0.8,2), method='Bounded')\n",
    "A13 = xmin2.x\n",
    "\n",
    "print(A12, A13, sep='\\n')"
   ]
  },
  {
   "cell_type": "code",
   "execution_count": 5,
   "metadata": {},
   "outputs": [],
   "source": [
    "# Problem 4\n",
    "\n",
    "f = lambda v : (v[0]**2 + v[1] - 11)**2 + (v[0] + v[1]**2 - 7)**2\n",
    "\n",
    "# a)\n",
    "\n",
    "xmin = scipy.optimize.minimize(f, np.array([-2, 3]), method='Nelder-Mead')\n",
    "A14 = xmin.x.reshape((2, 1))\n",
    "\n",
    "# b)\n",
    "\n",
    "xmax = scipy.optimize.minimize(lambda v : -f(v), np.array([0, 0]), method='Nelder-Mead')\n",
    "A15 = xmax.x.reshape((2, 1))"
   ]
  },
  {
   "cell_type": "code",
   "execution_count": 7,
   "metadata": {},
   "outputs": [
    {
     "name": "stdout",
     "output_type": "stream",
     "text": [
      "A1:2\n",
      "A2: 0.0\n",
      "A3: 372\n",
      "A4: 0.9501971713748036\n",
      "A5: 719\n",
      "A6: 0.9744018363132511\n",
      "A7: 44\n",
      "A9: 2.161562164535199\n",
      "A10: 0.9952523437634629\n",
      "A12: 0.6370082119636189\n",
      "0.8927161380540333\n",
      "[[-2.80512887]\n",
      " [ 3.13128649]]\n",
      "[[-0.27086815]\n",
      " [-0.92300745]]\n"
     ]
    }
   ],
   "source": [
    "print('A1:' + str(A1), 'A2: ' + str(A2), 'A3: ' + str(A3), 'A4: ' + str(A4), 'A5: ' + str(A5), 'A6: ' + str(A6), 'A7: ' + str(A7), 'A9: ' + str(A9), 'A10: ' + str(A10), 'A11: ' + str(A11), A13, A14, A15, sep='\\n')"
   ]
  },
  {
   "cell_type": "code",
   "execution_count": null,
   "metadata": {},
   "outputs": [],
   "source": []
  }
 ],
 "metadata": {
  "kernelspec": {
   "display_name": "Python 3",
   "language": "python",
   "name": "python3"
  },
  "language_info": {
   "codemirror_mode": {
    "name": "ipython",
    "version": 3
   },
   "file_extension": ".py",
   "mimetype": "text/x-python",
   "name": "python",
   "nbconvert_exporter": "python",
   "pygments_lexer": "ipython3",
   "version": "3.7.7"
  }
 },
 "nbformat": 4,
 "nbformat_minor": 4
}
