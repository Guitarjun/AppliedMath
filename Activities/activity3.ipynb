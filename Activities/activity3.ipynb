{
 "cells": [
  {
   "cell_type": "code",
   "execution_count": 9,
   "metadata": {},
   "outputs": [],
   "source": [
    "# Activity 3\n",
    "import numpy as np\n",
    "import scipy.linalg\n",
    "\n",
    "A = np.array([[55, -10, -20], [-10, 30, -15], [-20, -15, 65]])\n",
    "b = np.array([[20], [10], [5]])\n",
    "res = scipy.linalg.solve(A, b)\n",
    "\n",
    "def solve_triangular(A: np.array, B: np.array):\n",
    "    N = len(b)\n",
    "    x = np.zeros((N, 1))\n",
    "    for i in range(N):\n",
    "        x[i] = b[i]/A[i][i]\n",
    "    return x\n",
    "\n",
    "\n",
    "private np.array solve_triangular(np.array A, np.array B) {\n",
    "    N = b.length\n",
    "}"
   ]
  },
  {
   "cell_type": "code",
   "execution_count": null,
   "metadata": {},
   "outputs": [],
   "source": []
  }
 ],
 "metadata": {
  "kernelspec": {
   "display_name": "Python 3",
   "language": "python",
   "name": "python3"
  },
  "language_info": {
   "codemirror_mode": {
    "name": "ipython",
    "version": 3
   },
   "file_extension": ".py",
   "mimetype": "text/x-python",
   "name": "python",
   "nbconvert_exporter": "python",
   "pygments_lexer": "ipython3",
   "version": "3.7.7"
  }
 },
 "nbformat": 4,
 "nbformat_minor": 4
}
