{
 "cells": [
  {
   "cell_type": "code",
   "execution_count": 1,
   "metadata": {},
   "outputs": [],
   "source": [
    "import numpy as np\n",
    "import matplotlib.pyplot as plt\n",
    "%matplotlib inline"
   ]
  },
  {
   "cell_type": "code",
   "execution_count": 26,
   "metadata": {
    "scrolled": true
   },
   "outputs": [],
   "source": [
    "f = lambda x : (x - 2.421875)*(9 - x)\n",
    "\n",
    "f = lambda x : np.sin(x)\n",
    "\n",
    "def guess_root_():\n",
    "    x = (a + b) / 2\n",
    "    res = f(x)\n",
    "    if res == 0:\n",
    "        return x\n",
    "    elif res > 0:\n",
    "        a = x\n",
    "    else:\n",
    "        b = x\n",
    "    return x\n",
    "\n",
    "def guess_root_for(a, b, f):\n",
    "    for i in range(100):\n",
    "        x = (a + b) / 2\n",
    "        res = f(x)\n",
    "        if abs(res) < tolerance:\n",
    "            return x\n",
    "        elif np.sign(res) == np.sign(f(a)):\n",
    "            a = x\n",
    "        else:\n",
    "            b = x\n",
    "    return x\n",
    "        \n",
    "def guess_root_while(a, b, f):\n",
    "    i = 0\n",
    "    x = (a + b) / 2\n",
    "    res = f(x)\n",
    "    while res != 0:\n",
    "        i += 1\n",
    "        x = (a + b) / 2\n",
    "        res = f(x)\n",
    "        if abs(res) < tolerance:\n",
    "            return x\n",
    "        elif np.sign(res) == np.sign(f(a)):\n",
    "            a = x\n",
    "        else:\n",
    "            b = x\n",
    "        res = f(x)\n",
    "        x = (a + b) / 2\n",
    "    return x\n",
    "\n",
    "\n",
    "def bisection_method(f, a: int, b: int, tolerance: float):\n",
    "    x = (a + b) / 2\n",
    "    res = f(x)\n",
    "    while res != 0:\n",
    "        x = (a + b) / 2\n",
    "        res = f(x)\n",
    "        if abs(res) < tolerance:\n",
    "            return x\n",
    "        elif np.sign(res) == np.sign(f(a)):\n",
    "            a = x\n",
    "        else:\n",
    "            b = x\n",
    "        res = f(x)\n",
    "        x = (a + b) / 2\n",
    "    return x"
   ]
  }
 ],
 "metadata": {
  "kernelspec": {
   "display_name": "Python 3",
   "language": "python",
   "name": "python3"
  },
  "language_info": {
   "codemirror_mode": {
    "name": "ipython",
    "version": 3
   },
   "file_extension": ".py",
   "mimetype": "text/x-python",
   "name": "python",
   "nbconvert_exporter": "python",
   "pygments_lexer": "ipython3",
   "version": "3.7.7"
  }
 },
 "nbformat": 4,
 "nbformat_minor": 4
}
