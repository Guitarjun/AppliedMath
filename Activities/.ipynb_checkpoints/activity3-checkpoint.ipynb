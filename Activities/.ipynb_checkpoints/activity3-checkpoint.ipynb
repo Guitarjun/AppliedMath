{
 "cells": [
  {
   "cell_type": "code",
   "execution_count": 4,
   "metadata": {},
   "outputs": [
    {
     "name": "stdout",
     "output_type": "stream",
     "text": [
      "True\n"
     ]
    }
   ],
   "source": [
    "# Activity 3\n",
    "import numpy as np\n",
    "import scipy.linalg\n",
    "\n",
    "A = np.array([[55, -10, -20], [-10, 30, -15], [-20, -15, 65]])\n",
    "b = np.array([[20], [10], [5]])\n",
    "res = scipy.linalg.solve(A, b)\n",
    "\n",
    "def solve_triangular(A: np.array, B: np.array):\n",
    "    N = len(b)\n",
    "    x = np.zeros((N, 1))\n",
    "    for i in range(N):\n",
    "        x[i] = b[i]/A[i][i]\n",
    "    return x\n",
    "\n",
    "identity_matrix = np.array([[1, 0, 0], [0, 1, 0], [0, 0, 1]])\n",
    "print(diagonal_matrix)\n",
    "print(np.array_equal(solve_triangular(diagonal_matrix, b), b))"
   ]
  },
  {
   "cell_type": "code",
   "execution_count": null,
   "metadata": {},
   "outputs": [],
   "source": []
  }
 ],
 "metadata": {
  "kernelspec": {
   "display_name": "Python 3",
   "language": "python",
   "name": "python3"
  },
  "language_info": {
   "codemirror_mode": {
    "name": "ipython",
    "version": 3
   },
   "file_extension": ".py",
   "mimetype": "text/x-python",
   "name": "python",
   "nbconvert_exporter": "python",
   "pygments_lexer": "ipython3",
   "version": "3.7.7"
  }
 },
 "nbformat": 4,
 "nbformat_minor": 4
}
