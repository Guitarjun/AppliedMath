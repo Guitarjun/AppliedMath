{
 "cells": [
  {
   "cell_type": "code",
   "execution_count": 44,
   "metadata": {},
   "outputs": [],
   "source": [
    "# Activity 5\n",
    "\n",
    "import numpy as np\n",
    "import matplotlib.pyplot as plt\n",
    "import scipy.optimize"
   ]
  },
  {
   "cell_type": "code",
   "execution_count": 43,
   "metadata": {},
   "outputs": [
    {
     "name": "stdout",
     "output_type": "stream",
     "text": [
      "5.406604120300011\n",
      "2.9013568456642793\n",
      "0.0061426489680606045\n",
      "6.392128345344972e-05\n",
      "7.590362316456378e-07\n",
      "3.4032036633213636e-08\n",
      "1.9986140598060587e-07\n",
      "2.718634872778125e-09\n"
     ]
    }
   ],
   "source": [
    "# Gradient Descent\n",
    "\n",
    "f = lambda v : (v[0]-2)**2 + (v[1]+1)**2 + 5 * np.sin(v[0]) * np.sin(v[1]) + 100  # r1\n",
    "\n",
    "fgrad = lambda v : np.array([2 * (v[0] - 2) + (5 * np.cos(v[0]) * np.sin(v[1])), 2 * (v[1] + 1) + (5 * np.sin(v[0]) * np.cos(v[1]))])  # r2\n",
    "\n",
    "tolerance = 1e-8\n",
    "\n",
    "v0 = np.array([6, 4])\n",
    "def gradient_descent(v: np.array, tolerance: float, f, fgrad, bounds: list):\n",
    "    for k in range(100):\n",
    "        phi = lambda t : v - t * fgrad(v)\n",
    "        f_of_phi = lambda t : f(phi(t))\n",
    "        tstar = scipy.optimize.minimize_scalar(f_of_phi, bounds=bounds, method='Bounded')\n",
    "        v = phi(tstar.x)\n",
    "        err = np.max(np.abs(fgrad(v)))\n",
    "        print(err)\n",
    "        if err < tolerance:\n",
    "            break\n",
    "        \n",
    "gradient_descent(v0, tolerance, f, fgrad, [0, 1])"
   ]
  },
  {
   "cell_type": "code",
   "execution_count": null,
   "metadata": {},
   "outputs": [],
   "source": []
  }
 ],
 "metadata": {
  "kernelspec": {
   "display_name": "Python 3",
   "language": "python",
   "name": "python3"
  },
  "language_info": {
   "codemirror_mode": {
    "name": "ipython",
    "version": 3
   },
   "file_extension": ".py",
   "mimetype": "text/x-python",
   "name": "python",
   "nbconvert_exporter": "python",
   "pygments_lexer": "ipython3",
   "version": "3.7.7"
  }
 },
 "nbformat": 4,
 "nbformat_minor": 4
}
