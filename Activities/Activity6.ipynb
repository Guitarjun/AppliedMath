{
 "cells": [
  {
   "cell_type": "code",
   "execution_count": 60,
   "metadata": {},
   "outputs": [
    {
     "data": {
      "image/png": "[encoded data removed]",
      "text/plain": [
       "<Figure size 432x288 with 1 Axes>"
      ]
     },
     "metadata": {
      "needs_background": "light"
     },
     "output_type": "display_data"
    }
   ],
   "source": [
    "import numpy as np\n",
    "import matplotlib.pyplot as plt\n",
    "import scipy.optimize\n",
    "\n",
    "# Load data from fitdata.csv\n",
    "data = np.genfromtxt('activity_data2.csv', delimiter=',')\n",
    "x = data[0, :]\n",
    "y = data[1, :]\n",
    "n = x.size\n",
    "\n",
    "# Plot the data\n",
    "plt.plot(x, y, 'ko')\n",
    "\n",
    "# RMS Error\n",
    "def rms_error(mu: float, sigma2: float, x, y):\n",
    "    f = lambda x : (1 / np.sqrt(2 * np.pi * sigma2) * np.exp(-(x - mu)**2 / (2 * sigma2)))\n",
    "    return np.sqrt((1/n) * np.sum((f(x) - y)**2))\n",
    "\n",
    "# RMS wrapper\n",
    "rms_wrapper = lambda coeffs : rms_error(coeffs[0], coeffs[1], x, y)\n",
    "\n",
    "coeff_min_rms = scipy.optimize.minimize(rms_wrapper, np.array([2, 0.8]), method='Nelder-Mead')\n",
    "\n",
    "# RMS fit\n",
    "mu = coeff_min_rms.x[0]\n",
    "sigma2 = coeff_min_rms.x[1]\n",
    "f = lambda x : (1 / np.sqrt(2 * np.pi * sigma2) * np.exp(-(x - mu)**2 / (2 * sigma2)))\n",
    "\n",
    "# Average error\n",
    "def average_error(mu: float, sigma2: float, x, y):\n",
    "    f = lambda x : (1 / np.sqrt(2 * np.pi * sigma2) * np.exp(-(x - mu)**2 / (2 * sigma2)))\n",
    "    return (1/n) * np.sum(np.abs((f(x) - y)))\n",
    "\n",
    "# Average wrapper\n",
    "average_wrapper = lambda coeffs : average_error(coeffs[0], coeffs[1], x, y)\n",
    "\n",
    "coeff_min_average = scipy.optimize.minimize(average_wrapper, np.array([2, 0.8]), method='Nelder-Mead')\n",
    "\n",
    "# Average fit\n",
    "mu = coeff_min_average.x[0]\n",
    "sigma2 = coeff_min_average.x[1]\n",
    "f = lambda x : (1 / np.sqrt(2 * np.pi * sigma2) * np.exp(-(x - mu)**2 / (2 * sigma2)))\n",
    "\n",
    "# Max error\n",
    "def max_error(mu: float, sigma2: float, x, y):\n",
    "    f = lambda x : (1 / np.sqrt(2 * np.pi * sigma2) * np.exp(-(x - mu)**2 / (2 * sigma2)))\n",
    "    return np.max(np.abs((f(x) - y)))\n",
    "\n",
    "# Max wrapper\n",
    "max_wrapper = lambda coeffs : max_error(coeffs[0], coeffs[1], x, y)\n",
    "\n",
    "coeff_min_max = scipy.optimize.minimize(max_wrapper, np.array([2, 0.8]), method='Nelder-Mead')\n",
    "\n",
    "# Max fit\n",
    "mu = coeff_min_max.x[0]\n",
    "sigma2 = coeff_min_max.x[1]\n",
    "f = lambda x : (1 / np.sqrt(2 * np.pi * sigma2) * np.exp(-(x - mu)**2 / (2 * sigma2)))\n",
    "\n",
    "# Plot the function\n",
    "xplot = np.linspace(-6, 8, 1000)\n",
    "yplot = f(xplot)\n",
    "plt.plot(xplot, yplot)\n",
    "\n",
    "for k in range(n):\n",
    "    xdata = x[k]\n",
    "    ydata = y[k]\n",
    "    yhat = f(xdata)\n",
    "\n",
    "    # Plot a point at the predicted value\n",
    "    plt.plot(xdata, yhat, 'ko')\n",
    "    # Plot a red line between the data point and the predicted value\n",
    "    plt.plot([xdata, xdata], [ydata, yhat], 'r')\n",
    "\n",
    "# Choose a reasonable scale for the y-axis\n",
    "plt.ylim([-0.5, 1])\n",
    "plt.show()"
   ]
  },
  {
   "cell_type": "code",
   "execution_count": null,
   "metadata": {},
   "outputs": [],
   "source": []
  }
 ],
 "metadata": {
  "kernelspec": {
   "display_name": "Python 3",
   "language": "python",
   "name": "python3"
  },
  "language_info": {
   "codemirror_mode": {
    "name": "ipython",
    "version": 3
   },
   "file_extension": ".py",
   "mimetype": "text/x-python",
   "name": "python",
   "nbconvert_exporter": "python",
   "pygments_lexer": "ipython3",
   "version": "3.7.7"
  }
 },
 "nbformat": 4,
 "nbformat_minor": 4
}
