{
 "cells": [
  {
   "cell_type": "code",
   "execution_count": 1,
   "metadata": {},
   "outputs": [],
   "source": [
    "\"\"\"\n",
    "Arjun Srivastava\n",
    "arj1\n",
    "AMATH 301 B\n",
    "\"\"\"\n",
    "\n",
    "import numpy as np"
   ]
  },
  {
   "cell_type": "code",
   "execution_count": 70,
   "metadata": {},
   "outputs": [
    {
     "name": "stdout",
     "output_type": "stream",
     "text": [
      "[0.2        0.16666667 0.14285714 0.125      0.11111111 0.1\n",
      " 0.09090909 0.08333333 0.07692308 0.07142857 0.06666667 0.0625\n",
      " 0.05882353 0.05555556 0.05263158 0.05       0.         0.04545455\n",
      " 0.04347826]\n"
     ]
    }
   ],
   "source": [
    "# Problem 1\n",
    "\n",
    "A = np.fromfunction(lambda i, j: 1 / (i+1 * j+1), (19, 34))  # Using a NumPy function instead of nested for loops\n",
    "\n",
    "# a)\n",
    "\n",
    "A1 = A.copy()\n",
    "\n",
    "# b)\n",
    "\n",
    "B = A.copy()\n",
    "B[16,:], B[:,32] = 0, 0\n",
    "A2 = B.copy()\n",
    "\n",
    "# c)\n",
    "\n",
    "A3 = A2[-5:, -3:].copy()\n",
    "\n",
    "#d)\n",
    "\n",
    "A4 = B[:, 4].copy()"
   ]
  },
  {
   "cell_type": "code",
   "execution_count": 120,
   "metadata": {},
   "outputs": [],
   "source": [
    "# Problem 2\n",
    "\n",
    "# Function to calculate nth term of harmonic series\n",
    "def harmonic(n):\n",
    "    res = 0\n",
    "    for i in range(1, n+1):\n",
    "        res += 1/i\n",
    "    return res\n",
    "\n",
    "\n",
    "# Function to calculate smallest term n where S(n) < i\n",
    "def harmonic_smallest(i):\n",
    "    res = 0\n",
    "    n = 1\n",
    "    while res <= i:\n",
    "        res += 1/n\n",
    "        n += 1\n",
    "    return n - 1, res\n",
    "\n",
    "# a)\n",
    "\n",
    "A5 = harmonic(10)\n",
    "\n",
    "# b)\n",
    "\n",
    "A6 = harmonic(100)\n",
    "\n",
    "# c)\n",
    "\n",
    "A7, A8 = harmonic_smallest(5)\n",
    "\n",
    "# d)\n",
    "\n",
    "A9, A10 = harmonic_smallest(15)"
   ]
  },
  {
   "cell_type": "code",
   "execution_count": null,
   "metadata": {},
   "outputs": [],
   "source": [
    "# Problem 3\n",
    "\n",
    "# I wrote these two functions already for homework 1's coding assignment, so I'm just reusing them here\n",
    "\n",
    "# Computes a single log map iteration\n",
    "def log_map(r, p, K):\n",
    "    return r * p * (1 - p/K)\n",
    "\n",
    "# Computes nth log map iteration\n",
    "def calculate_log(n, r, p, K):\n",
    "    for i in range(n):\n",
    "        p = log_map(r, p, K)\n",
    "    return p\n",
    "\n"
   ]
  }
 ],
 "metadata": {
  "kernelspec": {
   "display_name": "Python 3",
   "language": "python",
   "name": "python3"
  },
  "language_info": {
   "codemirror_mode": {
    "name": "ipython",
    "version": 3
   },
   "file_extension": ".py",
   "mimetype": "text/x-python",
   "name": "python",
   "nbconvert_exporter": "python",
   "pygments_lexer": "ipython3",
   "version": "3.7.7"
  }
 },
 "nbformat": 4,
 "nbformat_minor": 4
}
