{
 "cells": [
  {
   "cell_type": "code",
   "execution_count": 78,
   "metadata": {},
   "outputs": [],
   "source": [
    "\"\"\"\n",
    "arj1\n",
    "Arjun Srivastava\n",
    "AMATH 301 B\n",
    "\"\"\"\n",
    "\n",
    "import numpy as np\n",
    "import scipy.integrate\n",
    "import matplotlib.pyplot as plt"
   ]
  },
  {
   "cell_type": "code",
   "execution_count": 28,
   "metadata": {},
   "outputs": [],
   "source": [
    "# Problem 1\n",
    "\n",
    "# Population by time\n",
    "data = np.genfromtxt('population.csv', delimiter=',')\n",
    "t = data[0, :]\n",
    "N = data[1, :]\n",
    "\n",
    "# a)\n",
    "\n",
    "dx = 10\n",
    "n = t.size\n",
    "deriv = np.zeros(n)\n",
    "deriv[0] = (-3 * N[0] + 4 * N[1] - N[2]) / (2 * dx)\n",
    "for k in range(1, n - 1):\n",
    "    deriv[k] = (N[k + 1] - N[k - 1]) / (2 * dx)\n",
    "deriv[-1] = (3 * N[-1] - 4 * N[-2] + N[-3]) / (2 * dx)\n",
    "\n",
    "A1, A2, A3, A4 = deriv[-1], deriv[9], deriv[0], deriv.reshape(1, 24)\n",
    "\n",
    "A5 = (A4 / N).reshape(1, 24)\n",
    "\n",
    "A6 = np.mean(A5)"
   ]
  },
  {
   "cell_type": "code",
   "execution_count": 77,
   "metadata": {},
   "outputs": [
    {
     "data": {
      "text/plain": [
       "1082.27198007472"
      ]
     },
     "execution_count": 77,
     "metadata": {},
     "output_type": "execute_result"
    }
   ],
   "source": [
    "# Problem 2\n",
    "\n",
    "data = np.genfromtxt('brake_pad.csv', delimiter=',')\n",
    "r = data[0, :]\n",
    "N = data[1, :]\n",
    "\n",
    "dx = r[1] - t[0]\n",
    "\n",
    "re = 0.308\n",
    "ro = 0.478\n",
    "thetaP = 0.7051\n",
    "\n",
    "# a)\n",
    "\n",
    "Ttotal = 0\n",
    "for k in range(r.size - 1):\n",
    "    Ttotal = Ttotal + (dx * N[k] * r[k] * thetaP)\n",
    "\n",
    "A7 = Ttotal\n",
    "\n",
    "A = 0\n",
    "for k in range(r.size - 1):\n",
    "    A = A + (dx * r[k] * thetaP)\n",
    "    \n",
    "A8 = Ttotal / A\n",
    "\n",
    "# b)\n",
    "\n",
    "Ttotal = 0\n",
    "for k in range(1, r.size):\n",
    "    Ttotal = Ttotal + (dx * N[k] * r[k] * thetaP)\n",
    "\n",
    "A9 = Ttotal\n",
    "\n",
    "A1 = 0\n",
    "for k in range(1, r.size):\n",
    "    A1 = A1 + (dx * r[k] * thetaP)\n",
    "    \n",
    "A10 = Ttotal / A1\n",
    "\n",
    "# c)\n",
    "\n",
    "A11 = (A7 + A9) / 2\n",
    "A2 = (A + A1) / 2\n",
    "\n",
    "A12 = A11 / A2"
   ]
  },
  {
   "cell_type": "code",
   "execution_count": 84,
   "metadata": {},
   "outputs": [
    {
     "data": {
      "text/plain": [
       "2.2309311440757926"
      ]
     },
     "execution_count": 84,
     "metadata": {},
     "output_type": "execute_result"
    }
   ],
   "source": [
    "# Problem 3\n",
    "\n",
    "bounds = (0, 1)\n",
    "F = lambda x : (x**2 / 2) - (x**3 / 3)\n",
    "mu = (0.95, 0.5, 0.01)\n",
    "\n",
    "# a)\n",
    "\n",
    "T = lambda z : mu[0] / np.sqrt(F(mu[0]) - F(mu[0] * z))\n",
    "A13, err = scipy.integrate.quad(T, bounds[0], bounds[1])\n",
    "\n",
    "# b)\n",
    "\n",
    "T = lambda z : mu[1] / np.sqrt(F(mu[1]) - F(mu[1] * z))\n",
    "A14, err = scipy.integrate.quad(T, bounds[0], bounds[1])\n",
    "\n",
    "# c)\n",
    "\n",
    "T = lambda z : mu[2] / np.sqrt(F(mu[2]) - F(mu[2] * z))\n",
    "A15, err = scipy.integrate.quad(T, bounds[0], bounds[1])"
   ]
  }
 ],
 "metadata": {
  "kernelspec": {
   "display_name": "Python 3",
   "language": "python",
   "name": "python3"
  },
  "language_info": {
   "codemirror_mode": {
    "name": "ipython",
    "version": 3
   },
   "file_extension": ".py",
   "mimetype": "text/x-python",
   "name": "python",
   "nbconvert_exporter": "python",
   "pygments_lexer": "ipython3",
   "version": "3.7.7"
  }
 },
 "nbformat": 4,
 "nbformat_minor": 4
}
