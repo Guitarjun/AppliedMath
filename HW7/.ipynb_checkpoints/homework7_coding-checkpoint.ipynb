{
 "cells": [
  {
   "cell_type": "code",
   "execution_count": 1,
   "metadata": {},
   "outputs": [],
   "source": [
    "\"\"\"\n",
    "arj1\n",
    "Arjun Srivastava\n",
    "AMATH 301 B\n",
    "\"\"\"\n",
    "\n",
    "import numpy as np\n",
    "import scipy.integrate\n",
    "import matplotlib.pyplot as plt"
   ]
  },
  {
   "cell_type": "code",
   "execution_count": null,
   "metadata": {},
   "outputs": [],
   "source": [
    "# Problem 1\n",
    "\n",
    "# Population by time\n",
    "data = np.genfromtxt('population.csv', delimiter=',')\n",
    "t = data[0, :]\n",
    "N = data[1, :]\n",
    "\n",
    "# a)\n",
    "\n",
    "dx = 10\n",
    "n = t.size\n",
    "deriv = np.zeros(n)\n",
    "deriv[0] = (-3 * N[0] + 4 * N[1] - N[2]) / (2 * dx)\n",
    "for k in range(1, n - 1):\n",
    "    deriv[k] = (N[k + 1] - N[k - 1]) / (2 * dx)\n",
    "deriv[-1] = (3 * N[-1] - 4 * N[-2] + N[-3]) / (2 * dx)\n",
    "\n",
    "A1, A2, A3, A4 = deriv[-1], deriv[9], deriv[0], deriv.reshape(1, 24)\n",
    "\n",
    "A5 = (A4 / N).reshape(1, 24)\n",
    "\n",
    "A6 = np.mean(A5)"
   ]
  },
  {
   "cell_type": "code",
   "execution_count": 2,
   "metadata": {},
   "outputs": [],
   "source": [
    "# Problem 2\n",
    "\n",
    "data = np.genfromtxt('brake_pad.csv', delimiter=',')\n",
    "r = data[0, :]\n",
    "T = data[1, :]\n",
    "n = r.size\n",
    "\n",
    "dx = r[1] - r[0]\n",
    "\n",
    "re = 0.308\n",
    "ro = 0.478\n",
    "thetaP = 0.7051\n",
    "\n",
    "# a)\n",
    "\n",
    "Ttotal = np.zeros(n)\n",
    "A = np.zeros(n)\n",
    "\n",
    "for k in range(n):\n",
    "    Ttotal[k] = T[k] * r[k] * thetaP\n",
    "    A[k] = r[k] * thetaP\n",
    "    \n",
    "A_LHR = dx * np.sum(A[:-1])\n",
    "A7 = dx * np.sum(Ttotal[:-1])\n",
    "\n",
    "A8 = A7 / A_LHR\n",
    "\n",
    "\n",
    "# b)\n",
    "\n",
    "A_RHR = dx * np.sum(A[1:])\n",
    "A9 = dx * np.sum(Ttotal[1:])\n",
    "\n",
    "A10 = A9 / A_RHR\n",
    "\n",
    "# c)\n",
    "\n",
    "A11 = (A7 + A9) / 2\n",
    "A_ = (A_LHR + A_RHR) / 2\n",
    "\n",
    "A12 = A11 / A_"
   ]
  },
  {
   "cell_type": "code",
   "execution_count": 3,
   "metadata": {},
   "outputs": [],
   "source": [
    "# Problem 3\n",
    "\n",
    "bounds = (0, 1)\n",
    "F = lambda x : (x**2 / 2) - (x**3 / 3)\n",
    "mu = (0.95, 0.5, 0.01)\n",
    "\n",
    "# a)\n",
    "\n",
    "T = lambda z : mu[0] / np.sqrt(F(mu[0]) - F(mu[0] * z))\n",
    "A13, err = scipy.integrate.quad(T, bounds[0], bounds[1])\n",
    "\n",
    "# b)\n",
    "\n",
    "T = lambda z : mu[1] / np.sqrt(F(mu[1]) - F(mu[1] * z))\n",
    "A14, err = scipy.integrate.quad(T, bounds[0], bounds[1])\n",
    "\n",
    "# c)\n",
    "\n",
    "T = lambda z : mu[2] / np.sqrt(F(mu[2]) - F(mu[2] * z))\n",
    "A15, err = scipy.integrate.quad(T, bounds[0], bounds[1])"
   ]
  }
 ],
 "metadata": {
  "kernelspec": {
   "display_name": "Python 3",
   "language": "python",
   "name": "python3"
  },
  "language_info": {
   "codemirror_mode": {
    "name": "ipython",
    "version": 3
   },
   "file_extension": ".py",
   "mimetype": "text/x-python",
   "name": "python",
   "nbconvert_exporter": "python",
   "pygments_lexer": "ipython3",
   "version": "3.7.7"
  }
 },
 "nbformat": 4,
 "nbformat_minor": 4
}
