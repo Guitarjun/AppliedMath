{
 "cells": [
  {
   "cell_type": "code",
   "execution_count": 2,
   "metadata": {},
   "outputs": [],
   "source": [
    "\"\"\"\n",
    "arj1\n",
    "Arjun Srivastava\n",
    "AMATH 301 B\n",
    "\"\"\"\n",
    "\n",
    "import numpy as np\n",
    "import matplotlib.pyplot as plt\n",
    "import scipy.integrate"
   ]
  },
  {
   "cell_type": "code",
   "execution_count": 6,
   "metadata": {},
   "outputs": [
    {
     "name": "stdout",
     "output_type": "stream",
     "text": [
      "P: 0.8605569069798773\n"
     ]
    },
    {
     "data": {
      "text/plain": [
       "'\\nP = \\n'"
      ]
     },
     "execution_count": 6,
     "metadata": {},
     "output_type": "execute_result"
    }
   ],
   "source": [
    "# Problem 1\n",
    "\n",
    "mu = 3.39\n",
    "std = 0.55\n",
    "\n",
    "P = lambda x : (1 / np.sqrt(2 * np.pi * std**2)) * np.exp(-(x - mu)**2 / (2*std**2))\n",
    "\n",
    "# a)\n",
    "\n",
    "bounds = (2, 4)\n",
    "Int, err = scipy.integrate.quad(P, bounds[0], bounds[1])\n",
    "print(\"P:\", Int)\n",
    "\n",
    "\"\"\"\n",
    "P = 0.8605569069798773\n",
    "\"\"\"\n",
    "\n",
    "# b)\n",
    "\n"
   ]
  },
  {
   "cell_type": "code",
   "execution_count": null,
   "metadata": {},
   "outputs": [],
   "source": [
    "# Problem 2"
   ]
  }
 ],
 "metadata": {
  "kernelspec": {
   "display_name": "Python 3",
   "language": "python",
   "name": "python3"
  },
  "language_info": {
   "codemirror_mode": {
    "name": "ipython",
    "version": 3
   },
   "file_extension": ".py",
   "mimetype": "text/x-python",
   "name": "python",
   "nbconvert_exporter": "python",
   "pygments_lexer": "ipython3",
   "version": "3.7.7"
  }
 },
 "nbformat": 4,
 "nbformat_minor": 4
}
