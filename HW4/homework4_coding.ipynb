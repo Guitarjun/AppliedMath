{
 "cells": [
  {
   "cell_type": "code",
   "execution_count": 2,
   "metadata": {},
   "outputs": [],
   "source": [
    "\"\"\"\n",
    "Arjun Srivastava\n",
    "arj1\n",
    "AMATH 301 B\n",
    "\"\"\"\n",
    "\n",
    "import numpy as np\n",
    "import scipy.linalg"
   ]
  },
  {
   "cell_type": "code",
   "execution_count": 58,
   "metadata": {},
   "outputs": [],
   "source": [
    "# Problem 1\n",
    "\n",
    "# a)\n",
    "\n",
    "# Function to generate discrete Poisson matrix of given dimension\n",
    "def discrete_poisson(dim: int):\n",
    "    A = np.zeros((dim, dim))\n",
    "    np.fill_diagonal(A, 2), np.fill_diagonal(A[1:], -1), np.fill_diagonal(A[:, 1:], -1)\n",
    "    return A\n",
    "\n",
    "A = discrete_poisson(114)\n",
    "A1 = A.copy()\n",
    "\n",
    "# b)\n",
    "\n",
    "rho = np.fromfunction(lambda j, i: 2 * (1 - np.cos(53*np.pi / 115)) * np.sin((53*np.pi*j)/115), (114, 1))\n",
    "A2 = rho.copy()"
   ]
  },
  {
   "cell_type": "code",
   "execution_count": 82,
   "metadata": {},
   "outputs": [
    {
     "data": {
      "text/plain": [
       "1.999906715964522"
      ]
     },
     "execution_count": 82,
     "metadata": {},
     "output_type": "execute_result"
    }
   ],
   "source": [
    "# Problem 2\n",
    "\n",
    "# c)\n",
    "\n",
    "P = np.diag(np.diag(A1))\n",
    "T = A1- P\n",
    "M = -scipy.linalg.solve(P, T)\n",
    "w, V = np.linalg.eig(M)\n",
    "A3 = np.max(np.abs(w))\n",
    "# d)\n",
    "\n",
    "x0 = np.ones((114, 1))\n",
    "tolerance = 10e-5\n",
    "err = tolerance + 1\n",
    "X = np.zeros((114, 1))\n",
    "X[:, 0:1] = x0\n",
    "\n",
    "k = 0\n",
    "if A3 < 1:\n",
    "    while err >= tolerance:\n",
    "        X = np.hstack((X, scipy.linalg.solve_triangular(P, -T @ X[:, k:(k+1)] + rho)))\n",
    "        err = np.max(np.abs(X[:, k+1] - X[:, k]))\n",
    "        k = k + 1\n",
    "A4 = X\n",
    "A5 = k\n",
    "\n",
    "# e)\n",
    "\n",
    "solution = np.fromfunction(lambda j, i: np.sin((53*np.pi*j)/115), (114, 1))\n",
    "A6 = np.max(np.abs(A4 - solution))"
   ]
  },
  {
   "cell_type": "code",
   "execution_count": 108,
   "metadata": {},
   "outputs": [
    {
     "data": {
      "text/plain": [
       "1.999906715964522"
      ]
     },
     "execution_count": 108,
     "metadata": {},
     "output_type": "execute_result"
    }
   ],
   "source": [
    "# Problem 3\n",
    "\n",
    "# f)\n",
    "\n",
    "P = np.tril(A1)\n",
    "T = A1- P\n",
    "M = -scipy.linalg.solve(P, T)\n",
    "w, V = np.linalg.eig(M)\n",
    "A7 = np.max(np.abs(w))\n",
    "\n",
    "# g)\n",
    "\n",
    "err = tolerance + 1\n",
    "X = np.zeros((114, 1))\n",
    "X[:, 0:1] = x0\n",
    "\n",
    "k = 0\n",
    "if A7 < 1:\n",
    "    while err >= tolerance:\n",
    "        X = np.hstack((X, scipy.linalg.solve_triangular(P, -T @ X[:, k:(k+1)] + rho, lower=True)))\n",
    "        err = np.max(np.abs(X[:, k+1] - X[:, k]))\n",
    "        k = k + 1\n",
    "A8 = X\n",
    "A9 = k\n",
    "\n",
    "# h)\n",
    "\n",
    "A10 = np.max(np.abs(A8 - solution))"
   ]
  },
  {
   "cell_type": "code",
   "execution_count": 110,
   "metadata": {},
   "outputs": [],
   "source": [
    "# Problem 4\n",
    "\n",
    "omega = 1.5\n",
    "D = np.diag(np.diag(A1))\n",
    "U = np.triu(A1, 1)\n",
    "L = np.tril(A1, -1)\n",
    "\n",
    "# i)\n",
    "\n",
    "P = ((1/omega) * D) + L\n",
    "T = (((omega - 1)/omega) * D) + U\n",
    "A11 = P.copy()\n",
    "\n",
    "# j)\n",
    "\n",
    "M = -scipy.linalg.solve(P, T)\n",
    "w, V = np.linalg.eig(M)\n",
    "A12 = np.max(np.abs(w))\n",
    "\n",
    "# k)\n",
    "\n",
    "err = tolerance + 1\n",
    "X = np.zeros((114, 1))\n",
    "X[:, 0:1] = x0\n",
    "\n",
    "k = 0\n",
    "if A12 < 1:\n",
    "    while err >= tolerance:\n",
    "        X = np.hstack((X, scipy.linalg.solve_triangular(P, -T @ X[:, k:(k+1)] + rho, lower=True)))\n",
    "        err = np.max(np.abs(X[:, k+1] - X[:, k]))\n",
    "        k = k + 1\n",
    "A13 = X\n",
    "A14 = k\n",
    "\n",
    "# l)\n",
    "\n",
    "A15 = np.max(np.abs(A13 - solution))"
   ]
  }
 ],
 "metadata": {
  "kernelspec": {
   "display_name": "Python 3",
   "language": "python",
   "name": "python3"
  },
  "language_info": {
   "codemirror_mode": {
    "name": "ipython",
    "version": 3
   },
   "file_extension": ".py",
   "mimetype": "text/x-python",
   "name": "python",
   "nbconvert_exporter": "python",
   "pygments_lexer": "ipython3",
   "version": "3.7.7"
  }
 },
 "nbformat": 4,
 "nbformat_minor": 4
}
