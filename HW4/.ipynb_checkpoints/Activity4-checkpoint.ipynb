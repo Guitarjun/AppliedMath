{
 "cells": [
  {
   "cell_type": "code",
   "execution_count": 40,
   "metadata": {},
   "outputs": [
    {
     "name": "stdout",
     "output_type": "stream",
     "text": [
      "False\n",
      "True\n",
      "True\n"
     ]
    }
   ],
   "source": [
    "import numpy as np\n",
    "import scipy.linalg\n",
    "\n",
    "def will_splitting_method_converge(P, T):\n",
    "    M = -scipy.linalg.solve(P, T)\n",
    "    w, V = np.linalg.eig(M)\n",
    "    w = np.max(np.abs(w))\n",
    "    return w < 1\n",
    "\n",
    "def is_matrix_sdd(A: np.array):\n",
    "    for i in range(A.shape[0]):\n",
    "        total = np.sum(abs(A[i, :]))\n",
    "        total -= np.abs(A[i, i])\n",
    "        if total >= np.abs(A[i, i]):\n",
    "            return False\n",
    "    return True\n",
    "\n",
    "# Question 13\n",
    "\n",
    "A = np.array([[1, 1/2, 1/2], [1/2, 1, 1/2], [1/2, 1/2, 1]])\n",
    "print(is_matrix_sdd(A))\n",
    "\n",
    "# Jacobi\n",
    "\n",
    "P = np.diag(np.diag(A))\n",
    "T = A - P\n",
    "print(will_splitting_method_converge(P, T))\n",
    "\n",
    "# Gauss-Seidel\n",
    "\n",
    "P = np.tril(A)\n",
    "T = A- P\n",
    "print(will_splitting_method_converge(P, T))"
   ]
  },
  {
   "cell_type": "code",
   "execution_count": null,
   "metadata": {},
   "outputs": [],
   "source": []
  }
 ],
 "metadata": {
  "kernelspec": {
   "display_name": "Python 3",
   "language": "python",
   "name": "python3"
  },
  "language_info": {
   "codemirror_mode": {
    "name": "ipython",
    "version": 3
   },
   "file_extension": ".py",
   "mimetype": "text/x-python",
   "name": "python",
   "nbconvert_exporter": "python",
   "pygments_lexer": "ipython3",
   "version": "3.7.7"
  }
 },
 "nbformat": 4,
 "nbformat_minor": 4
}
