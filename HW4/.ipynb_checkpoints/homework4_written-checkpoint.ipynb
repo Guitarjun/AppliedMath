{
 "cells": [
  {
   "cell_type": "code",
   "execution_count": 1,
   "metadata": {},
   "outputs": [],
   "source": [
    "\"\"\"\n",
    "Arjun Srivastava\n",
    "arj1\n",
    "AMATH 301 B\n",
    "\"\"\"\n",
    "\n",
    "import numpy as np\n",
    "import scipy.linalg"
   ]
  },
  {
   "cell_type": "code",
   "execution_count": 44,
   "metadata": {},
   "outputs": [
    {
     "name": "stdout",
     "output_type": "stream",
     "text": [
      "False\n",
      "[[297.45750672]\n",
      " [391.72129933]\n",
      " [423.90681902]\n",
      " [435.81158472]\n",
      " [440.55453337]\n",
      " [442.64889326]\n",
      " [443.61294579]\n",
      " [444.12680954]\n",
      " [444.3176967 ]\n",
      " [444.38781196]\n",
      " [444.36396768]\n",
      " [444.31729177]\n",
      " [444.0668564 ]\n",
      " [443.58282811]\n",
      " [442.58972374]\n",
      " [440.53284625]\n",
      " [435.79612986]\n",
      " [423.88898756]\n",
      " [391.71288872]\n",
      " [297.44902115]]\n",
      "[[  1.           0.79084331   0.79909658 ... 292.63887691 292.63914415\n",
      "  292.63981374]\n",
      " [  1.           1.01086987   0.96457436 ... 385.37533224 385.37621411\n",
      "  385.376566  ]\n",
      " [  1.           1.00933716   1.04821305 ... 417.04030326 417.04068407\n",
      "  417.04163823]\n",
      " ...\n",
      " [  1.           1.00505705   1.04957383 ... 417.02218506 417.02313931\n",
      "  417.02352008]\n",
      " [  1.           1.01791109   0.96789068 ... 385.36718662 385.36753855\n",
      "  385.36842034]\n",
      " [  1.           0.78874374   0.80234327 ... 292.63019013 292.63085979\n",
      "  292.631127  ]]\n"
     ]
    }
   ],
   "source": [
    "# Problem 1\n",
    "\n",
    "A = np.genfromtxt('hw4_matrix.csv', delimiter=',')\n",
    "\n",
    "# From Activity 3\n",
    "def solve_triangular(A: np.array, B: np.array):\n",
    "    N = len(b)\n",
    "    x = np.zeros((N, 1))\n",
    "    for i in range(N):\n",
    "        x[i] = b[i]/A[i][i]\n",
    "    return x\n",
    "\n",
    "# a)\n",
    "\n",
    "b = np.random.rand(20, 1)\n",
    "x = scipy.linalg.solve(A, b)\n",
    "print(np.array_equal(A @ b, x))\n",
    "\n",
    "\"\"\"\n",
    "||Ax-b||oo is the error of the solution as we approach infinitely many iterations. I think it is reasonable to pretend this\n",
    "is zero, since it should be equal to 0 by mathematical definition. There is, of course, a degree of rounding error, which\n",
    "is why Ax is not exactly equal to b.\n",
    "\"\"\"\n",
    "\n",
    "# b)\n",
    "\n",
    "tolerance = 10e-4\n",
    "err = tolerance + 1\n",
    "P = np.diag(np.diag(A))\n",
    "T = A - P\n",
    "x0 = np.ones(b.shape)\n",
    "X = np.zeros(b.shape)\n",
    "X[:, 0:1] = x0\n",
    "\n",
    "k = 0\n",
    "M = -scipy.linalg.solve(P, T)\n",
    "w, V = np.linalg.eig(M)\n",
    "if np.max(np.abs(w)) < 1:\n",
    "    while err >= tolerance:\n",
    "        X = np.hstack((X, scipy.linalg.solve_triangular(P, -T @ X[:, k:(k+1)] + b)))\n",
    "        err = np.max(np.abs(X[:, k+1] - X[:, k]))\n",
    "        k = k + 1"
   ]
  },
  {
   "cell_type": "code",
   "execution_count": null,
   "metadata": {},
   "outputs": [],
   "source": []
  }
 ],
 "metadata": {
  "kernelspec": {
   "display_name": "Python 3",
   "language": "python",
   "name": "python3"
  },
  "language_info": {
   "codemirror_mode": {
    "name": "ipython",
    "version": 3
   },
   "file_extension": ".py",
   "mimetype": "text/x-python",
   "name": "python",
   "nbconvert_exporter": "python",
   "pygments_lexer": "ipython3",
   "version": "3.7.7"
  }
 },
 "nbformat": 4,
 "nbformat_minor": 4
}
