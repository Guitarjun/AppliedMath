{
 "cells": [
  {
   "cell_type": "code",
   "execution_count": 122,
   "metadata": {},
   "outputs": [],
   "source": [
    "\"\"\"\n",
    "arj1\n",
    "Arjun Srivastava\n",
    "AMATH 301 B\n",
    "\"\"\"\n",
    "\n",
    "import numpy as np\n",
    "import matplotlib.pyplot as plt"
   ]
  },
  {
   "cell_type": "code",
   "execution_count": 143,
   "metadata": {},
   "outputs": [],
   "source": [
    "# Problem 1\n",
    "\n",
    "A = np.array([[1, -2, 0, -1], [4, 0, -2, 1]])\n",
    "\n",
    "# a)\n",
    "\n",
    "# Reduced SVD\n",
    "U, s, Vt = np.linalg.svd(A, full_matrices=False)\n",
    "V = Vt.copy().T\n",
    "\n",
    "A1 = V.copy()\n",
    "\n",
    "# b)\n",
    "\n",
    "# Full SVD\n",
    "U, s, Vt = np.linalg.svd(A)\n",
    "V = Vt.copy().T\n",
    "\n",
    "A2 = V.copy()\n",
    "\n",
    "# c)\n",
    "\n",
    "# Rank\n",
    "A3 = len(s)\n",
    "\n",
    "# d)\n",
    "\n",
    "sigma1 = s[0]\n",
    "u1 = U[:, 0:1]\n",
    "v1 = V[:, 0:1]\n",
    "\n",
    "A4 = sigma1 * u1 @ v1.T\n",
    "\n",
    "# e)\n",
    "\n",
    "A5 = (np.cumsum(s ** 2) / np.sum(s ** 2))[0]"
   ]
  },
  {
   "cell_type": "code",
   "execution_count": 144,
   "metadata": {},
   "outputs": [],
   "source": [
    "# Problem 2\n",
    "\n",
    "# Function to generate discrete Poisson matrix of given dimension\n",
    "def discrete_poisson(dim: int):\n",
    "    A = np.zeros((dim, dim))\n",
    "    np.fill_diagonal(A, 2), np.fill_diagonal(A[1:], -1), np.fill_diagonal(A[:, 1:], -1)\n",
    "    return A\n",
    "\n",
    "A = discrete_poisson(114)\n",
    "\n",
    "rho = np.fromfunction(lambda j, i: 2 * (1 - np.cos(53*np.pi / 115)) * np.sin((53*np.pi*(j+1))/115), (114, 1))\n",
    "\n",
    "# a)\n",
    "\n",
    "U, s, Vt = np.linalg.svd(A)\n",
    "V = Vt.T\n",
    "\n",
    "A6 = s.reshape(1, 114)\n",
    "\n",
    "# b)\n",
    "\n",
    "A7 = U.copy().T\n",
    "\n",
    "# c)\n",
    "\n",
    "A8 = Vt.copy().T\n",
    "\n",
    "# d)\n",
    "\n",
    "S = np.zeros(A.shape)\n",
    "for i in range(s.size):\n",
    "    S[i, i] = 1/s[i]\n",
    "    \n",
    "A9 = S\n",
    "\n",
    "# e)\n",
    "\n",
    "A10 = A7 @ rho\n",
    "\n",
    "# f)\n",
    "\n",
    "A11 = A9 @ A10\n",
    "\n",
    "# g)\n",
    "\n",
    "A12 = A8 @ A11"
   ]
  },
  {
   "cell_type": "code",
   "execution_count": 145,
   "metadata": {},
   "outputs": [],
   "source": [
    "# Problem 3\n",
    "\n",
    "data = np.genfromtxt('hw10_img.csv', delimiter=',')\n",
    "mb = 8 / 1e6\n",
    "h, w = data.shape"
   ]
  },
  {
   "cell_type": "code",
   "execution_count": 153,
   "metadata": {},
   "outputs": [
    {
     "data": {
      "text/plain": [
       "204"
      ]
     },
     "execution_count": 153,
     "metadata": {},
     "output_type": "execute_result"
    }
   ],
   "source": [
    "# a)\n",
    "\n",
    "A13 = h * w * mb\n",
    "\n",
    "# b)\n",
    "U, s, Vt = np.linalg.svd(data)\n",
    "\n",
    "E = np.cumsum(s ** 2) / np.sum(s ** 2)\n",
    "for k in range(len(s)):\n",
    "    A14 = k + 1\n",
    "    if E[k] > 0.99:\n",
    "        break\n",
    "\n",
    "# c)\n",
    "\n",
    "A15 = mb * k * (h + w + 1)"
   ]
  },
  {
   "cell_type": "code",
   "execution_count": null,
   "metadata": {},
   "outputs": [],
   "source": []
  }
 ],
 "metadata": {
  "kernelspec": {
   "display_name": "Python 3",
   "language": "python",
   "name": "python3"
  },
  "language_info": {
   "codemirror_mode": {
    "name": "ipython",
    "version": 3
   },
   "file_extension": ".py",
   "mimetype": "text/x-python",
   "name": "python",
   "nbconvert_exporter": "python",
   "pygments_lexer": "ipython3",
   "version": "3.7.7"
  }
 },
 "nbformat": 4,
 "nbformat_minor": 4
}
